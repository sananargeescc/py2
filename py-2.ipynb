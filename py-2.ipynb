{
  "cells": [
    {
      "cell_type": "code",
      "execution_count": null,
      "metadata": {
        "colab": {
          "base_uri": "https://localhost:8080/"
        },
        "id": "IW2LlQ5mLJpp",
        "outputId": "8c5170f5-f753-4cb1-a320-c4556ad5f12d"
      },
      "outputs": [
        {
          "name": "stdout",
          "output_type": "stream",
          "text": [
            "hello world\n"
          ]
        }
      ],
      "source": [
        "a=150\n",
        "b=400\n",
        "if a<b:\n",
        "  print(\"hello world\")\n",
        "else:\n",
        "  print(\"hai\")  \n"
      ]
    },
    {
      "cell_type": "code",
      "execution_count": 1,
      "metadata": {
        "colab": {
          "base_uri": "https://localhost:8080/"
        },
        "id": "JNGYUoHWM-Z4",
        "outputId": "339d521e-4452-425d-8d04-c2335fba1240"
      },
      "outputs": [
        {
          "output_type": "stream",
          "name": "stdout",
          "text": [
            "haii\n"
          ]
        }
      ],
      "source": [
        "a=55\n",
        "b=55\n",
        "if a>b:\n",
        "  print(\"hai\")\n",
        "elif a<b:\n",
        "  print(\"hello\")\n",
        "else:\n",
        "  print(\"haii\")  "
      ]
    },
    {
      "cell_type": "code",
      "execution_count": null,
      "metadata": {
        "colab": {
          "base_uri": "https://localhost:8080/"
        },
        "id": "Gb0_XclqNYXT",
        "outputId": "c3dd8592-f5b5-450f-8b4e-872742ed452c"
      },
      "outputs": [
        {
          "name": "stdout",
          "output_type": "stream",
          "text": [
            "b is greater\n"
          ]
        }
      ],
      "source": [
        "a=50\n",
        "b=65\n",
        "c=40\n",
        "if a>b and a>c:\n",
        "  print(\"a is greater\")\n",
        "elif b>a and b>c:\n",
        "  print(\"b is greater\")\n",
        "else:\n",
        "  print(\"c is greater\")    "
      ]
    },
    {
      "cell_type": "code",
      "execution_count": null,
      "metadata": {
        "colab": {
          "base_uri": "https://localhost:8080/"
        },
        "id": "2CRmb1vkOBl_",
        "outputId": "8439265f-8c72-4f41-c236-b8a85009077c"
      },
      "outputs": [
        {
          "name": "stdout",
          "output_type": "stream",
          "text": [
            "1\n",
            "2\n"
          ]
        }
      ],
      "source": [
        "i=0\n",
        "while i<10:\n",
        "  i+=1\n",
        "  if i==3:\n",
        "    break\n",
        "  print(i)  "
      ]
    },
    {
      "cell_type": "code",
      "execution_count": null,
      "metadata": {
        "colab": {
          "base_uri": "https://localhost:8080/"
        },
        "id": "PQ43NKABOO4x",
        "outputId": "f5ea103e-2fc3-468a-b58f-f6dcb80efcf5"
      },
      "outputs": [
        {
          "name": "stdout",
          "output_type": "stream",
          "text": [
            "1\n",
            "2\n",
            "4\n",
            "5\n",
            "6\n",
            "7\n",
            "8\n",
            "9\n",
            "10\n"
          ]
        }
      ],
      "source": [
        "i=0\n",
        "while i<10:\n",
        "  i+=1\n",
        "  if i==3:\n",
        "    continue\n",
        "  print(i)  "
      ]
    },
    {
      "cell_type": "code",
      "execution_count": null,
      "metadata": {
        "colab": {
          "base_uri": "https://localhost:8080/"
        },
        "id": "I0StkxNbOm3A",
        "outputId": "7da003b9-8625-4355-ddf7-014e8e83d9e0"
      },
      "outputs": [
        {
          "name": "stdout",
          "output_type": "stream",
          "text": [
            "2\n",
            "3\n",
            "4\n",
            "5\n",
            "6\n",
            "7\n",
            "8\n",
            "9\n",
            "10\n"
          ]
        }
      ],
      "source": [
        "i=1\n",
        "while i<10:\n",
        "  i=i+1\n",
        "  print(i)"
      ]
    },
    {
      "cell_type": "code",
      "execution_count": null,
      "metadata": {
        "colab": {
          "base_uri": "https://localhost:8080/"
        },
        "id": "zbq-mXElPF_7",
        "outputId": "94521b83-8091-4944-b4dc-542ac5ec1209"
      },
      "outputs": [
        {
          "name": "stdout",
          "output_type": "stream",
          "text": [
            "10\n",
            "15\n",
            "20\n",
            "25\n",
            "30\n",
            "35\n",
            "40\n",
            "45\n"
          ]
        }
      ],
      "source": [
        "for i in range(10,50,5):\n",
        "  print(i)"
      ]
    },
    {
      "cell_type": "code",
      "execution_count": null,
      "metadata": {
        "colab": {
          "base_uri": "https://localhost:8080/"
        },
        "id": "P5UL7PelPSwZ",
        "outputId": "cfec0585-abb3-4df6-86b0-a35dfa6e9bec"
      },
      "outputs": [
        {
          "name": "stdout",
          "output_type": "stream",
          "text": [
            "10\n",
            "9\n",
            "8\n",
            "7\n",
            "6\n",
            "5\n",
            "4\n",
            "3\n",
            "2\n"
          ]
        }
      ],
      "source": [
        "for i in range(10,1,-1):\n",
        "  print(i)"
      ]
    },
    {
      "cell_type": "code",
      "execution_count": null,
      "metadata": {
        "colab": {
          "base_uri": "https://localhost:8080/"
        },
        "id": "HC23MOkTPc40",
        "outputId": "b098a888-7814-4a7c-bf3a-3b6c6677e27b"
      },
      "outputs": [
        {
          "name": "stdout",
          "output_type": "stream",
          "text": [
            "apple\n",
            "mango\n",
            "banana\n",
            "cherry\n"
          ]
        }
      ],
      "source": [
        "a=[\"apple\",\"mango\",\"banana\",\"cherry\"]\n",
        "for i in a:\n",
        "  print(i)"
      ]
    },
    {
      "cell_type": "code",
      "execution_count": null,
      "metadata": {
        "colab": {
          "base_uri": "https://localhost:8080/"
        },
        "id": "Hw7g08sBPuR_",
        "outputId": "5223cb09-7102-4943-ccca-cf61c8b7bffa"
      },
      "outputs": [
        {
          "name": "stdout",
          "output_type": "stream",
          "text": [
            "true\n"
          ]
        }
      ],
      "source": [
        "a=[19,5,5,5,19]\n",
        "if a.count(19)==2 and a.count(5)==3:\n",
        "  print(\"true\")\n",
        "else:\n",
        "  print(\"false\")  "
      ]
    },
    {
      "cell_type": "code",
      "execution_count": null,
      "metadata": {
        "colab": {
          "base_uri": "https://localhost:8080/"
        },
        "id": "90S-sFHFQfLt",
        "outputId": "1f8dfa71-6092-4d79-eac9-dfb22b3a8d88"
      },
      "outputs": [
        {
          "name": "stdout",
          "output_type": "stream",
          "text": [
            "false\n"
          ]
        }
      ],
      "source": [
        "a=[19,5,5,5,14,3]\n",
        "if a.count(19)==2 and a.count(5)==3:\n",
        "  print(\"true\")\n",
        "else:\n",
        "  print(\"false\")\n",
        "    "
      ]
    },
    {
      "cell_type": "code",
      "execution_count": null,
      "metadata": {
        "colab": {
          "base_uri": "https://localhost:8080/"
        },
        "id": "3HC6L_EtRPTk",
        "outputId": "6ad4c716-2409-484a-eb09-f0afa62bfb31"
      },
      "outputs": [
        {
          "name": "stdout",
          "output_type": "stream",
          "text": [
            "1\n",
            "3\n",
            "5\n",
            "7\n",
            "9\n",
            "11\n",
            "13\n",
            "15\n",
            "17\n",
            "19\n",
            "21\n",
            "23\n",
            "25\n",
            "27\n",
            "29\n",
            "31\n",
            "33\n",
            "35\n",
            "37\n",
            "39\n",
            "41\n",
            "43\n",
            "45\n",
            "47\n",
            "49\n"
          ]
        }
      ],
      "source": [
        "for i in range(1,50,2):\n",
        "  print(i)"
      ]
    },
    {
      "cell_type": "code",
      "execution_count": null,
      "metadata": {
        "colab": {
          "base_uri": "https://localhost:8080/"
        },
        "id": "JNk0nLIQRstX",
        "outputId": "2fd8b74e-ea94-4298-ff48-1ec11cd86530"
      },
      "outputs": [
        {
          "name": "stdout",
          "output_type": "stream",
          "text": [
            "[12, 24, 36, 48, 60, 72, 84, 96]\n",
            "[84]\n"
          ]
        }
      ],
      "source": [
        "a=[]\n",
        "for i in range(12,101):\n",
        "  if i%12==0:\n",
        "    a.append(i)\n",
        "print(a)\n",
        "b=[]\n",
        "for j in a:\n",
        "  if j%14==0:\n",
        "    b.append(j)\n",
        "print(b)\n",
        "\n"
      ]
    },
    {
      "cell_type": "code",
      "execution_count": null,
      "metadata": {
        "colab": {
          "base_uri": "https://localhost:8080/"
        },
        "id": "vGJm50c8Sl3s",
        "outputId": "23a029b5-564d-49b7-b982-a3aeca95b659"
      },
      "outputs": [
        {
          "name": "stdout",
          "output_type": "stream",
          "text": [
            "[1, 3, 5, 7, 9, 11, 13, 15, 17, 19, 21, 23, 25, 27, 29, 31, 33, 35, 37, 39, 41, 43, 45, 47, 49, 51, 53, 55, 57, 59, 61, 63, 65, 67, 69, 71, 73, 75, 77, 79, 81, 83, 85, 87, 89, 91, 93, 95, 97, 99]\n",
            "[2, 4, 6, 8, 10, 12, 14, 16, 18, 20, 22, 24, 26, 28, 30, 32, 34, 36, 38, 40, 42, 44, 46, 48, 50, 52, 54, 56, 58, 60, 62, 64, 66, 68, 70, 72, 74, 76, 78, 80, 82, 84, 86, 88, 90, 92, 94, 96, 98, 100]\n"
          ]
        }
      ],
      "source": [
        "a=[]\n",
        "b=[]\n",
        "for i in range(1,101):\n",
        "  if i%2!=0:\n",
        "        a.append(i)\n",
        "  else:\n",
        "       b.append(i)\n",
        "print(a)\n",
        "print(b)          \n",
        "  \n",
        "  "
      ]
    },
    {
      "cell_type": "code",
      "execution_count": null,
      "metadata": {
        "colab": {
          "base_uri": "https://localhost:8080/"
        },
        "id": "mE6R23gyT3Op",
        "outputId": "ae6c172c-fa0f-4d9d-aa05-ee3b2b85a68a"
      },
      "outputs": [
        {
          "name": "stdout",
          "output_type": "stream",
          "text": [
            "enter the username:rana\n",
            "enter password:a14\n",
            "welcome\n"
          ]
        }
      ],
      "source": [
        "a=[\"sana\",\"safa\",\"rana\"]\n",
        "b=[\"a11\",\"a13\",\"a14\"]\n",
        "c=input(\"enter the username:\")\n",
        "if c in a:\n",
        "     d=input(\"enter password:\")\n",
        "     ind=a.index(c)\n",
        "\n",
        "     if d in b and ind==b.index(d):\n",
        "       print(\"welcome\")\n",
        "     else:\n",
        "       print(\"incorrect password\")\n",
        "else:\n",
        "    print(\"incorrect username\")       \n",
        " "
      ]
    },
    {
      "cell_type": "code",
      "execution_count": null,
      "metadata": {
        "colab": {
          "base_uri": "https://localhost:8080/"
        },
        "id": "4LeKrgKMnwgI",
        "outputId": "06fc9f26-8e85-442d-b271-49ea902c9467"
      },
      "outputs": [
        {
          "name": "stdout",
          "output_type": "stream",
          "text": [
            "enter the name:sana\n",
            "enter the name:safa\n",
            "enter the name:rana\n",
            "enter the name:rifa\n",
            "enter the name:aysh\n",
            "enter the age:21\n",
            "enter the age:22\n",
            "enter the age:55\n",
            "enter the age:33\n",
            "enter the age:22\n",
            "['sana', 'safa', 'rana', 'rifa', 'aysh']\n",
            "['21', '22', '55', '33', '22']\n"
          ]
        }
      ],
      "source": [
        "name=[]\n",
        "for i in range(5):\n",
        "  n=input(\"enter the name:\")\n",
        "  name.append(n)\n",
        "age=[]\n",
        "for i in range(5):\n",
        "  a=input(\"enter the age:\")\n",
        "  age.append(a)\n",
        "print(name)\n",
        "print(age)    "
      ]
    },
    {
      "cell_type": "code",
      "execution_count": null,
      "metadata": {
        "colab": {
          "base_uri": "https://localhost:8080/"
        },
        "id": "viUD3l5Cp9t8",
        "outputId": "1f73a374-2eb9-42bc-8a40-ae494ba12667"
      },
      "outputs": [
        {
          "name": "stdout",
          "output_type": "stream",
          "text": [
            "enter the sentence:vvvvv\n",
            "number of vowels: 0\n",
            "no vowels\n"
          ]
        }
      ],
      "source": [
        "s=input(\"enter the sentence:\")\n",
        "count=0\n",
        "for i in s:\n",
        "  if (i=='a'or i=='e'or i=='i'or i=='o'or i=='u'):\n",
        "    count+=1\n",
        "print(\"number of vowels:\",count)  \n",
        "if count==0:\n",
        "  print(\"no vowels\")  "
      ]
    },
    {
      "cell_type": "code",
      "execution_count": null,
      "metadata": {
        "colab": {
          "base_uri": "https://localhost:8080/"
        },
        "id": "d1bYRQ_4tRTP",
        "outputId": "1f8917ef-464f-4574-ec34-6c9eabe74923"
      },
      "outputs": [
        {
          "name": "stdout",
          "output_type": "stream",
          "text": [
            "enter the word:wee\n",
            "no entry\n"
          ]
        }
      ],
      "source": [
        "a=input(\"enter the word:\")\n",
        "if  a[0]=='p':\n",
        "      print(\"welcome\")\n",
        "else:\n",
        "  print(\"no entry\")      "
      ]
    },
    {
      "cell_type": "code",
      "execution_count": null,
      "metadata": {
        "colab": {
          "base_uri": "https://localhost:8080/"
        },
        "id": "KhGM4M89u6D1",
        "outputId": "f9624ab6-2641-4ff8-b40b-7f4988127a6d"
      },
      "outputs": [
        {
          "name": "stdout",
          "output_type": "stream",
          "text": [
            "enter the word:\n"
          ]
        }
      ],
      "source": [
        "\n",
        "\n",
        "\n",
        "n=input(\"enter the word:\")\n",
        "if n == n[::-1] :\n",
        "  print(\"palidrome\")\n",
        "else:\n",
        "  print(\"not palidrome\")  \n"
      ]
    },
    {
      "cell_type": "code",
      "execution_count": null,
      "metadata": {
        "colab": {
          "base_uri": "https://localhost:8080/"
        },
        "id": "X6cbEQg-1OjW",
        "outputId": "0c9db54e-6cb0-4282-950d-0c066650f569"
      },
      "outputs": [
        {
          "name": "stdout",
          "output_type": "stream",
          "text": [
            "enter the number of country:3\n",
            "enter the country:india\n",
            "enter the country:india\n",
            "enter the country:china\n",
            "2\n"
          ]
        }
      ],
      "source": [
        "n = int(input(\"enter the number of country:\"))\n",
        "set1=set()\n",
        "for i in range(n):\n",
        "   s=input(\"enter the country:\")\n",
        "   set1.add(s)\n",
        "   \n",
        "print(len(set1))"
      ]
    },
    {
      "cell_type": "code",
      "execution_count": null,
      "metadata": {
        "colab": {
          "base_uri": "https://localhost:8080/"
        },
        "id": "Be04YnPwVxmo",
        "outputId": "09221c77-77f4-48ab-a011-308c8179ae84"
      },
      "outputs": [
        {
          "data": {
            "text/plain": [
              "{'china', 'india'}"
            ]
          },
          "execution_count": 30,
          "metadata": {},
          "output_type": "execute_result"
        }
      ],
      "source": [
        "set1"
      ]
    },
    {
      "cell_type": "code",
      "execution_count": null,
      "metadata": {
        "id": "Azc27F0bVyor"
      },
      "outputs": [],
      "source": []
    },
    {
      "cell_type": "code",
      "execution_count": null,
      "metadata": {
        "colab": {
          "background_save": true,
          "base_uri": "https://localhost:8080/"
        },
        "id": "CHU-MU3LXjiv",
        "outputId": "2fbab2e9-d732-4879-a9f2-639057f09aa8"
      },
      "outputs": [
        {
          "name": "stdout",
          "output_type": "stream",
          "text": [
            "{1, 2, 3, 4, 5, 6, 7, 8, 9}\n"
          ]
        }
      ],
      "source": [
        "n=int(input())\n",
        "s=set()\n",
        "for i in range(1,n+1):\n",
        "    s.add(i)\n",
        "print(s)  \n",
        "num=int(input())\n",
        "for i in range(num):\n",
        "    set1=input()\n",
        "    if 'pop' in set1  \n",
        "print(set1)    "
      ]
    }
  ],
  "metadata": {
    "colab": {
      "provenance": []
    },
    "kernelspec": {
      "display_name": "Python 3",
      "name": "python3"
    },
    "language_info": {
      "name": "python"
    }
  },
  "nbformat": 4,
  "nbformat_minor": 0
}